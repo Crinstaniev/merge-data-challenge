{
  "nbformat": 4,
  "nbformat_minor": 0,
  "metadata": {
    "colab": {
      "provenance": []
    },
    "kernelspec": {
      "name": "python3",
      "display_name": "Python 3"
    },
    "language_info": {
      "name": "python"
    },
    "gpuClass": "standard"
  },
  "cells": [
    {
      "cell_type": "markdown",
      "source": [
        "Source: https://web3py.readthedocs.io/en/v5/web3.beacon.html"
      ],
      "metadata": {
        "id": "w5WZniPF81RV"
      }
    },
    {
      "cell_type": "markdown",
      "source": [
        "# Part I Setup: Install and Import Packages"
      ],
      "metadata": {
        "id": "mEBu8C3C8yoN"
      }
    },
    {
      "cell_type": "code",
      "source": [
        "from google.colab import drive\n",
        "drive.mount('/content/drive')"
      ],
      "metadata": {
        "colab": {
          "base_uri": "https://localhost:8080/"
        },
        "id": "2JxEUJtAD5tc",
        "outputId": "ccab7226-cfed-4759-c845-68bbedf83afa"
      },
      "execution_count": 19,
      "outputs": [
        {
          "output_type": "stream",
          "name": "stdout",
          "text": [
            "Drive already mounted at /content/drive; to attempt to forcibly remount, call drive.mount(\"/content/drive\", force_remount=True).\n"
          ]
        }
      ]
    },
    {
      "cell_type": "code",
      "source": [
        "cd /content/drive/MyDrive/Staking"
      ],
      "metadata": {
        "colab": {
          "base_uri": "https://localhost:8080/"
        },
        "id": "6rGndAYlEMrf",
        "outputId": "47f4a4b4-5931-40bf-8d60-e3fc2090f0b2"
      },
      "execution_count": 20,
      "outputs": [
        {
          "output_type": "stream",
          "name": "stdout",
          "text": [
            "/content/drive/MyDrive/Staking\n"
          ]
        }
      ]
    },
    {
      "cell_type": "code",
      "source": [
        "!pip install web3"
      ],
      "metadata": {
        "colab": {
          "base_uri": "https://localhost:8080/"
        },
        "id": "KqWZSw1p8Jpi",
        "outputId": "ab74a750-2365-4e2b-fd41-b9a5421fe313"
      },
      "execution_count": 1,
      "outputs": [
        {
          "output_type": "stream",
          "name": "stdout",
          "text": [
            "Looking in indexes: https://pypi.org/simple, https://us-python.pkg.dev/colab-wheels/public/simple/\n",
            "Requirement already satisfied: web3 in /usr/local/lib/python3.8/dist-packages (5.31.3)\n",
            "Requirement already satisfied: eth-hash[pycryptodome]<1.0.0,>=0.2.0 in /usr/local/lib/python3.8/dist-packages (from web3) (0.5.1)\n",
            "Requirement already satisfied: eth-abi<3.0.0,>=2.2.0 in /usr/local/lib/python3.8/dist-packages (from web3) (2.2.0)\n",
            "Requirement already satisfied: aiohttp<4,>=3.7.4.post0 in /usr/local/lib/python3.8/dist-packages (from web3) (3.8.4)\n",
            "Requirement already satisfied: jsonschema<5,>=3.2.0 in /usr/local/lib/python3.8/dist-packages (from web3) (4.3.3)\n",
            "Requirement already satisfied: eth-utils<2.0.0,>=1.9.5 in /usr/local/lib/python3.8/dist-packages (from web3) (1.9.5)\n",
            "Requirement already satisfied: websockets<10,>=9.1 in /usr/local/lib/python3.8/dist-packages (from web3) (9.1)\n",
            "Requirement already satisfied: eth-typing<3.0.0,>=2.0.0 in /usr/local/lib/python3.8/dist-packages (from web3) (2.3.0)\n",
            "Requirement already satisfied: ipfshttpclient==0.8.0a2 in /usr/local/lib/python3.8/dist-packages (from web3) (0.8.0a2)\n",
            "Requirement already satisfied: eth-account<0.6.0,>=0.5.9 in /usr/local/lib/python3.8/dist-packages (from web3) (0.5.9)\n",
            "Requirement already satisfied: protobuf==3.19.5 in /usr/local/lib/python3.8/dist-packages (from web3) (3.19.5)\n",
            "Requirement already satisfied: lru-dict<2.0.0,>=1.1.6 in /usr/local/lib/python3.8/dist-packages (from web3) (1.1.8)\n",
            "Requirement already satisfied: requests<3.0.0,>=2.16.0 in /usr/local/lib/python3.8/dist-packages (from web3) (2.25.1)\n",
            "Requirement already satisfied: hexbytes<1.0.0,>=0.1.0 in /usr/local/lib/python3.8/dist-packages (from web3) (0.3.0)\n",
            "Requirement already satisfied: eth-rlp<0.3 in /usr/local/lib/python3.8/dist-packages (from web3) (0.2.1)\n",
            "Requirement already satisfied: multiaddr>=0.0.7 in /usr/local/lib/python3.8/dist-packages (from ipfshttpclient==0.8.0a2->web3) (0.0.9)\n",
            "Requirement already satisfied: charset-normalizer<4.0,>=2.0 in /usr/local/lib/python3.8/dist-packages (from aiohttp<4,>=3.7.4.post0->web3) (3.0.1)\n",
            "Requirement already satisfied: multidict<7.0,>=4.5 in /usr/local/lib/python3.8/dist-packages (from aiohttp<4,>=3.7.4.post0->web3) (6.0.4)\n",
            "Requirement already satisfied: frozenlist>=1.1.1 in /usr/local/lib/python3.8/dist-packages (from aiohttp<4,>=3.7.4.post0->web3) (1.3.3)\n",
            "Requirement already satisfied: yarl<2.0,>=1.0 in /usr/local/lib/python3.8/dist-packages (from aiohttp<4,>=3.7.4.post0->web3) (1.8.2)\n",
            "Requirement already satisfied: async-timeout<5.0,>=4.0.0a3 in /usr/local/lib/python3.8/dist-packages (from aiohttp<4,>=3.7.4.post0->web3) (4.0.2)\n",
            "Requirement already satisfied: attrs>=17.3.0 in /usr/local/lib/python3.8/dist-packages (from aiohttp<4,>=3.7.4.post0->web3) (22.2.0)\n",
            "Requirement already satisfied: aiosignal>=1.1.2 in /usr/local/lib/python3.8/dist-packages (from aiohttp<4,>=3.7.4.post0->web3) (1.3.1)\n",
            "Requirement already satisfied: parsimonious<0.9.0,>=0.8.0 in /usr/local/lib/python3.8/dist-packages (from eth-abi<3.0.0,>=2.2.0->web3) (0.8.1)\n",
            "Requirement already satisfied: rlp<3,>=1.0.0 in /usr/local/lib/python3.8/dist-packages (from eth-account<0.6.0,>=0.5.9->web3) (2.0.1)\n",
            "Requirement already satisfied: eth-keys<0.4.0,>=0.3.4 in /usr/local/lib/python3.8/dist-packages (from eth-account<0.6.0,>=0.5.9->web3) (0.3.4)\n",
            "Requirement already satisfied: eth-keyfile<0.6.0,>=0.5.0 in /usr/local/lib/python3.8/dist-packages (from eth-account<0.6.0,>=0.5.9->web3) (0.5.1)\n",
            "Requirement already satisfied: bitarray<3,>=1.2.1 in /usr/local/lib/python3.8/dist-packages (from eth-account<0.6.0,>=0.5.9->web3) (2.7.3)\n",
            "Requirement already satisfied: pycryptodome<4,>=3.6.6 in /usr/local/lib/python3.8/dist-packages (from eth-hash[pycryptodome]<1.0.0,>=0.2.0->web3) (3.17)\n",
            "Requirement already satisfied: cytoolz<1.0.0,>=0.10.1 in /usr/local/lib/python3.8/dist-packages (from eth-utils<2.0.0,>=1.9.5->web3) (0.12.1)\n",
            "Requirement already satisfied: importlib-resources>=1.4.0 in /usr/local/lib/python3.8/dist-packages (from jsonschema<5,>=3.2.0->web3) (5.12.0)\n",
            "Requirement already satisfied: pyrsistent!=0.17.0,!=0.17.1,!=0.17.2,>=0.14.0 in /usr/local/lib/python3.8/dist-packages (from jsonschema<5,>=3.2.0->web3) (0.19.3)\n",
            "Requirement already satisfied: chardet<5,>=3.0.2 in /usr/local/lib/python3.8/dist-packages (from requests<3.0.0,>=2.16.0->web3) (4.0.0)\n",
            "Requirement already satisfied: certifi>=2017.4.17 in /usr/local/lib/python3.8/dist-packages (from requests<3.0.0,>=2.16.0->web3) (2022.12.7)\n",
            "Requirement already satisfied: urllib3<1.27,>=1.21.1 in /usr/local/lib/python3.8/dist-packages (from requests<3.0.0,>=2.16.0->web3) (1.24.3)\n",
            "Requirement already satisfied: idna<3,>=2.5 in /usr/local/lib/python3.8/dist-packages (from requests<3.0.0,>=2.16.0->web3) (2.10)\n",
            "Requirement already satisfied: toolz>=0.8.0 in /usr/local/lib/python3.8/dist-packages (from cytoolz<1.0.0,>=0.10.1->eth-utils<2.0.0,>=1.9.5->web3) (0.12.0)\n",
            "Requirement already satisfied: zipp>=3.1.0 in /usr/local/lib/python3.8/dist-packages (from importlib-resources>=1.4.0->jsonschema<5,>=3.2.0->web3) (3.14.0)\n",
            "Requirement already satisfied: six in /usr/local/lib/python3.8/dist-packages (from multiaddr>=0.0.7->ipfshttpclient==0.8.0a2->web3) (1.15.0)\n",
            "Requirement already satisfied: base58 in /usr/local/lib/python3.8/dist-packages (from multiaddr>=0.0.7->ipfshttpclient==0.8.0a2->web3) (2.1.1)\n",
            "Requirement already satisfied: netaddr in /usr/local/lib/python3.8/dist-packages (from multiaddr>=0.0.7->ipfshttpclient==0.8.0a2->web3) (0.8.0)\n",
            "Requirement already satisfied: varint in /usr/local/lib/python3.8/dist-packages (from multiaddr>=0.0.7->ipfshttpclient==0.8.0a2->web3) (1.0.2)\n"
          ]
        }
      ]
    },
    {
      "cell_type": "code",
      "execution_count": 30,
      "metadata": {
        "id": "y60lUI2L7XRY"
      },
      "outputs": [],
      "source": [
        "from web3.beacon import Beacon\n",
        "import json\n",
        "import pickle"
      ]
    },
    {
      "cell_type": "markdown",
      "source": [
        "*notes: you need to get an endpoint for Ethereum from a node provider*\n",
        "please delete \"/\" at the end of the URL, otherwise you will get an error"
      ],
      "metadata": {
        "id": "WGc2Az369s4q"
      }
    },
    {
      "cell_type": "code",
      "source": [
        "# connect to beacon node\n",
        "beacon = Beacon(\n",
        "   'https://ultra-chaotic-silence.discover.quiknode.pro/3a20380951ff287a674246a038a9563feea0e27f')"
      ],
      "metadata": {
        "id": "6yqlKBaa7wUZ"
      },
      "execution_count": 22,
      "outputs": []
    },
    {
      "cell_type": "code",
      "source": [
        "# connect to beacon node\n",
        "beacon = Beacon(\n",
        "   'https://blissful-wiser-market.quiknode.pro/ecf63da832e7217941dbc103ae9681679ad82303')"
      ],
      "metadata": {
        "id": "T-2IELZWEvWm"
      },
      "execution_count": 24,
      "outputs": []
    },
    {
      "cell_type": "markdown",
      "source": [
        "# Part II: Get Validator Data"
      ],
      "metadata": {
        "id": "vWkaB-4i95pc"
      }
    },
    {
      "cell_type": "code",
      "source": [
        "validators = beacon.get_validators() # get all the validator data"
      ],
      "metadata": {
        "id": "uT0pPOdK87wJ"
      },
      "execution_count": 25,
      "outputs": []
    },
    {
      "cell_type": "markdown",
      "source": [
        "Note: you need to first create a data folder in the google drive directory"
      ],
      "metadata": {
        "id": "z_hzwzJ6_5gC"
      }
    },
    {
      "cell_type": "code",
      "source": [
        "with open('data/validators.json', 'w') as f:\n",
        "    json.dump(validators, f)"
      ],
      "metadata": {
        "id": "XV6fGSn2-D1w"
      },
      "execution_count": 26,
      "outputs": []
    },
    {
      "cell_type": "markdown",
      "source": [
        "# Part III: Get Epoch Committee Data"
      ],
      "metadata": {
        "id": "FxZcpTGLARtJ"
      }
    },
    {
      "cell_type": "code",
      "source": [
        "epoch_committees_4680000_4680031 = beacon.get_epoch_committees(\n",
        "    4680000).get('data') # Get the epoch committees for the epoch with slot numbers from 4680000 to 4680031\n",
        "epoch_committees_4680032_4680063 = beacon.get_epoch_committees(\n",
        "    4680032).get('data') # Get the epoch committees for the epoch with slot numbers from 4680031 to 4680063\n",
        "epoch_committees_4680064_4680095 = beacon.get_epoch_committees(\n",
        "    4680064).get('data') # Get the epoch committees for the epoch with slot numbers from 4680064 to 4680095"
      ],
      "metadata": {
        "id": "8SxZA_ZA_vt2"
      },
      "execution_count": 27,
      "outputs": []
    },
    {
      "cell_type": "code",
      "source": [
        "epoch_committees_4680000_4680095 = []\n",
        "epoch_committees_4680000_4680095.extend(epoch_committees_4680000_4680031)\n",
        "epoch_committees_4680000_4680095.extend(epoch_committees_4680032_4680063)\n",
        "epoch_committees_4680000_4680095.extend(epoch_committees_4680064_4680095)"
      ],
      "metadata": {
        "id": "jAwQHXoBAu0x"
      },
      "execution_count": 28,
      "outputs": []
    },
    {
      "cell_type": "code",
      "source": [
        "with open('./data/epoch_committees_4680000_4680095.pkl', 'wb') as f:\n",
        "    pickle.dump(epoch_committees_4680000_4680095, f)"
      ],
      "metadata": {
        "id": "NNxqiRARFuj-"
      },
      "execution_count": 31,
      "outputs": []
    },
    {
      "cell_type": "code",
      "source": [],
      "metadata": {
        "id": "4mlc_tNiF08B"
      },
      "execution_count": null,
      "outputs": []
    }
  ]
}