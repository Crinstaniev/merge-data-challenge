{
 "cells": [
  {
   "attachments": {},
   "cell_type": "markdown",
   "metadata": {},
   "source": [
    "# Data Analysis"
   ]
  },
  {
   "cell_type": "code",
   "execution_count": 7,
   "metadata": {},
   "outputs": [],
   "source": [
    "import json\n",
    "import pickle\n",
    "import warnings\n",
    "\n",
    "import numpy as np\n",
    "import os\n",
    "import pandas as pd\n",
    "from tqdm import tqdm\n",
    "\n",
    "warnings.filterwarnings('ignore')"
   ]
  },
  {
   "cell_type": "code",
   "execution_count": 8,
   "metadata": {},
   "outputs": [
    {
     "name": "stdout",
     "output_type": "stream",
     "text": [
      "/Users/crinstaniev/Dev/ethereum/merge-data-challenge\n"
     ]
    }
   ],
   "source": [
    "# switch the working directory to project root\n",
    "if os.getcwd().split('/')[-1] == 'code':\n",
    "    os.chdir('..')\n",
    "print(os.getcwd())"
   ]
  },
  {
   "attachments": {},
   "cell_type": "markdown",
   "metadata": {},
   "source": [
    "## Validators and Status Data"
   ]
  },
  {
   "cell_type": "code",
   "execution_count": 9,
   "metadata": {},
   "outputs": [],
   "source": [
    "validators_json = (json\n",
    "                   .load(open('data/validators.json', 'r'))\n",
    "                   .get('data'))\n"
   ]
  },
  {
   "cell_type": "code",
   "execution_count": 10,
   "metadata": {},
   "outputs": [
    {
     "name": "stderr",
     "output_type": "stream",
     "text": [
      "100%|██████████| 457515/457515 [03:45<00:00, 2025.70it/s]\n"
     ]
    }
   ],
   "source": [
    "# status: eligible, activated, exit\n",
    "num_epochs = 156490\n",
    "mat = np.zeros(shape=(num_epochs, 4), dtype=int)\n",
    "\n",
    "for validator in tqdm(validators_json):\n",
    "    validator = validator.get('validator')\n",
    "    slashed = validator.get('slashed')\n",
    "\n",
    "    activation_eligibility_epoch = int(validator.get(\n",
    "        'activation_eligibility_epoch'))\n",
    "    activation_epoch = int(validator.get('activation_epoch'))\n",
    "    withdrawable_epoch = int(validator.get('withdrawable_epoch'))\n",
    "    exit_epoch = int(validator.get('exit_epoch'))\n",
    "\n",
    "    payload = np.zeros(shape=(num_epochs, 4), dtype=int)\n",
    "\n",
    "    if activation_eligibility_epoch < num_epochs:\n",
    "        payload[activation_eligibility_epoch:, 0] = 1\n",
    "    if activation_epoch < num_epochs:\n",
    "        payload[activation_epoch:, :] = 0\n",
    "        payload[activation_epoch:, 1] = 1\n",
    "    if withdrawable_epoch < num_epochs:\n",
    "        payload[withdrawable_epoch:, :] = 0\n",
    "        payload[withdrawable_epoch:, 2] = 1\n",
    "    if exit_epoch < num_epochs:\n",
    "        payload[exit_epoch:, :] = 0\n",
    "        payload[exit_epoch:, 3] = 1\n",
    "    mat += payload\n"
   ]
  },
  {
   "cell_type": "code",
   "execution_count": 11,
   "metadata": {},
   "outputs": [],
   "source": [
    "status_df = pd.DataFrame(\n",
    "    mat, columns=['eligible', 'activated', 'withdrawable', 'exited'])\n",
    "status_df.to_csv('data/status.csv')"
   ]
  },
  {
   "cell_type": "code",
   "execution_count": 15,
   "metadata": {},
   "outputs": [],
   "source": [
    "block_df = pd.read_json('data/beacon_blocks.json', lines=True)"
   ]
  },
  {
   "cell_type": "code",
   "execution_count": 17,
   "metadata": {},
   "outputs": [],
   "source": [
    "block_df_clean = block_df[[\n",
    "    'block_slot', 'block_epoch', 'block_timestamp', 'proposer_index', 'eth1_deposit_count', 'attestations'\n",
    "]]\n"
   ]
  },
  {
   "cell_type": "code",
   "execution_count": 18,
   "metadata": {},
   "outputs": [],
   "source": [
    "block_df_clean = block_df_clean.dropna()\n",
    "block_df_clean['block_timestamp'] = block_df_clean['block_timestamp'].astype(\n",
    "    'datetime64[ns]')\n",
    "block_df_clean['proposer_index'] = block_df_clean['proposer_index'].astype(int)\n"
   ]
  },
  {
   "cell_type": "code",
   "execution_count": 19,
   "metadata": {},
   "outputs": [],
   "source": [
    "def get_attestation_num(lst):\n",
    "    return len(lst)\n",
    "\n",
    "block_df_clean['attestations_cnt'] = block_df_clean['attestations'].apply(get_attestation_num)"
   ]
  },
  {
   "cell_type": "code",
   "execution_count": 20,
   "metadata": {},
   "outputs": [],
   "source": [
    "def get_attester_idx(lst):\n",
    "    payload = []\n",
    "    for item in lst:\n",
    "        payload.append(item['index'])\n",
    "    return payload\n",
    "\n",
    "block_df_clean['attester'] = block_df_clean['attestations'].apply(get_attester_idx)"
   ]
  },
  {
   "cell_type": "code",
   "execution_count": null,
   "metadata": {},
   "outputs": [],
   "source": [
    "block_df_clean.to_pickle('data/block_df.pkl')"
   ]
  }
 ],
 "metadata": {
  "kernelspec": {
   "display_name": "merge-data-challenge-ju38e7AG",
   "language": "python",
   "name": "python3"
  },
  "language_info": {
   "codemirror_mode": {
    "name": "ipython",
    "version": 3
   },
   "file_extension": ".py",
   "mimetype": "text/x-python",
   "name": "python",
   "nbconvert_exporter": "python",
   "pygments_lexer": "ipython3",
   "version": "3.9.12"
  },
  "orig_nbformat": 4,
  "vscode": {
   "interpreter": {
    "hash": "f38ba472d416d70a4e7190730aef3be6b875ff29071a2bde54e478141239f9d5"
   }
  }
 },
 "nbformat": 4,
 "nbformat_minor": 2
}
