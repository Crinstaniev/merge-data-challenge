{
 "cells": [
  {
   "attachments": {},
   "cell_type": "markdown",
   "metadata": {},
   "source": [
    "# Data Collection"
   ]
  },
  {
   "cell_type": "code",
   "execution_count": 3,
   "metadata": {},
   "outputs": [],
   "source": [
    "from web3.beacon import Beacon\n",
    "import warnings\n",
    "import pickle\n",
    "import json\n",
    "import os\n",
    "\n",
    "warnings.filterwarnings('ignore')"
   ]
  },
  {
   "cell_type": "code",
   "execution_count": 6,
   "metadata": {},
   "outputs": [],
   "source": [
    "# connect to beacon node\n",
    "beacon = Beacon(\n",
    "    'https://ultra-chaotic-silence.discover.quiknode.pro/3a20380951ff287a674246a038a9563feea0e27f')\n"
   ]
  },
  {
   "cell_type": "code",
   "execution_count": 5,
   "metadata": {},
   "outputs": [
    {
     "name": "stdout",
     "output_type": "stream",
     "text": [
      "/Users/crinstaniev/Dev/ethereum/merge-data-challenge\n"
     ]
    }
   ],
   "source": [
    "# switch the working directory to project root\n",
    "if os.getcwd().split('/')[-1] == 'code':\n",
    "    os.chdir('..')\n",
    "print(os.getcwd())"
   ]
  },
  {
   "attachments": {},
   "cell_type": "markdown",
   "metadata": {},
   "source": [
    "## Validators Data"
   ]
  },
  {
   "cell_type": "code",
   "execution_count": null,
   "metadata": {},
   "outputs": [],
   "source": [
    "validators = beacon.get_validators()\n"
   ]
  },
  {
   "cell_type": "code",
   "execution_count": null,
   "metadata": {},
   "outputs": [],
   "source": [
    "with open('data/validators.json', 'w') as f:\n",
    "    json.dump(validators, f)"
   ]
  },
  {
   "attachments": {},
   "cell_type": "markdown",
   "metadata": {},
   "source": [
    "## Epoch Commettees Data"
   ]
  },
  {
   "cell_type": "code",
   "execution_count": 9,
   "metadata": {},
   "outputs": [],
   "source": [
    "epoch_committees_4680000_4680031 = beacon.get_epoch_committees(\n",
    "    4680000).get('data')\n",
    "epoch_committees_4680032_4680063 = beacon.get_epoch_committees(\n",
    "    4680032).get('data')\n",
    "epoch_committees_4680064_4680095 = beacon.get_epoch_committees(\n",
    "    4680064).get('data')\n"
   ]
  },
  {
   "cell_type": "code",
   "execution_count": 10,
   "metadata": {},
   "outputs": [],
   "source": [
    "epoch_committees_4680000_4680095 = []\n",
    "epoch_committees_4680000_4680095.extend(epoch_committees_4680000_4680031)\n",
    "epoch_committees_4680000_4680095.extend(epoch_committees_4680032_4680063)\n",
    "epoch_committees_4680000_4680095.extend(epoch_committees_4680064_4680095)"
   ]
  },
  {
   "cell_type": "code",
   "execution_count": 13,
   "metadata": {},
   "outputs": [],
   "source": [
    "with open('./data/epoch_committees_4680000_4680095.pkl', 'wb') as f:\n",
    "    pickle.dump(epoch_committees_4680000_4680095, f)"
   ]
  },
  {
   "attachments": {},
   "cell_type": "markdown",
   "metadata": {},
   "source": [
    "## Beacon Blocks Data"
   ]
  },
  {
   "attachments": {},
   "cell_type": "markdown",
   "metadata": {},
   "source": [
    "Copy and run the following command to export beacon blocks data from the Ethereum 2.0 mainnet.\n",
    "```\n",
    "ethereum2etl export_beacon_blocks --output-dir data --output-format json --provider-uri https://ultra-chaotic-silence.discover.quiknode.pro/3a20380951ff287a674246a038a9563feea0e27f --start-block 4680000 --end-block 4720000\n",
    "```"
   ]
  },
  {
   "attachments": {},
   "cell_type": "markdown",
   "metadata": {},
   "source": [
    "## Ether Price Data"
   ]
  },
  {
   "attachments": {},
   "cell_type": "markdown",
   "metadata": {},
   "source": [
    "Ether price data can be downloaded from [Etherscan](https://etherscan.io/chart/etherprice). Put the csv into `data` folder and rename it to `blocktime.csv`."
   ]
  },
  {
   "cell_type": "markdown",
   "metadata": {},
   "source": []
  }
 ],
 "metadata": {
  "kernelspec": {
   "display_name": "merge-data-challenge-ju38e7AG",
   "language": "python",
   "name": "python3"
  },
  "language_info": {
   "codemirror_mode": {
    "name": "ipython",
    "version": 3
   },
   "file_extension": ".py",
   "mimetype": "text/x-python",
   "name": "python",
   "nbconvert_exporter": "python",
   "pygments_lexer": "ipython3",
   "version": "3.9.12"
  },
  "orig_nbformat": 4,
  "vscode": {
   "interpreter": {
    "hash": "f38ba472d416d70a4e7190730aef3be6b875ff29071a2bde54e478141239f9d5"
   }
  }
 },
 "nbformat": 4,
 "nbformat_minor": 2
}
